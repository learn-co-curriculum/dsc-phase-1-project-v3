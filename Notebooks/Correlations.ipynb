{
 "cells": [
  {
   "cell_type": "code",
   "execution_count": 91,
   "id": "9a40e757-0245-45b6-bf77-6ff2a7abc11b",
   "metadata": {},
   "outputs": [
    {
     "data": {
      "text/plain": [
       "-0.8309562697322536"
      ]
     },
     "execution_count": 91,
     "metadata": {},
     "output_type": "execute_result"
    }
   ],
   "source": [
    "df_trimmed['Percent.Serious.and.Fatal'].corr(df_trimmed['Percent.Uninjured'])"
   ]
  },
  {
   "cell_type": "code",
   "execution_count": 95,
   "id": "f10f868d-3816-4283-b4e7-685d8ff0974f",
   "metadata": {},
   "outputs": [],
   "source": []
  },
  {
   "cell_type": "code",
   "execution_count": 45,
   "id": "7a70e24f-6011-4044-834e-f7bfd74f5810",
   "metadata": {},
   "outputs": [
    {
     "data": {
      "text/plain": [
       "Location\n",
       "CA    988\n",
       "AK    948\n",
       "TX    784\n",
       "FL    783\n",
       "AZ    396\n",
       "     ... \n",
       "JI      1\n",
       "PO      1\n",
       "Y,      1\n",
       "E,      1\n",
       "TA      1\n",
       "Name: count, Length: 110, dtype: int64"
      ]
     },
     "execution_count": 45,
     "metadata": {},
     "output_type": "execute_result"
    }
   ],
   "source": []
  },
  {
   "cell_type": "code",
   "execution_count": null,
   "id": "5d893aca-9cea-4fe4-a6c5-c28b53be8e22",
   "metadata": {},
   "outputs": [],
   "source": []
  }
 ],
 "metadata": {
  "kernelspec": {
   "display_name": "Python 3 (ipykernel)",
   "language": "python",
   "name": "python3"
  },
  "language_info": {
   "codemirror_mode": {
    "name": "ipython",
    "version": 3
   },
   "file_extension": ".py",
   "mimetype": "text/x-python",
   "name": "python",
   "nbconvert_exporter": "python",
   "pygments_lexer": "ipython3",
   "version": "3.11.4"
  }
 },
 "nbformat": 4,
 "nbformat_minor": 5
}
