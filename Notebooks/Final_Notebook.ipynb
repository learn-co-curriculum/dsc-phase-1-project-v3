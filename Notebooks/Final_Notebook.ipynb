{
 "cells": [
  {
   "cell_type": "markdown",
   "metadata": {},
   "source": [
    "# IMPORTANT\n",
    "This notebook runs off of the kernel for the Visualizations_Colby notebook, you MUST run all cells in that notebook before running this notebook and connect the Kernels."
   ]
  },
  {
   "cell_type": "markdown",
   "metadata": {},
   "source": [
    "## Final Project Submission\n",
    "\n",
    "Please fill out:\n",
    "* Student name: Noah Hunsicker, Colby Gates\n",
    "* Student pace: Full time\n",
    "* Scheduled project review date/time: \n",
    "* Instructor name: Praveen Gowtham\n",
    "* Blog post URL: "
   ]
  },
  {
   "cell_type": "markdown",
   "metadata": {},
   "source": [
    "# Recommending Airplanes to Purchase by Minimizing Risk"
   ]
  },
  {
   "cell_type": "markdown",
   "metadata": {},
   "source": [
    "# Goals"
   ]
  },
  {
   "cell_type": "markdown",
   "metadata": {},
   "source": [
    "Our task was to identify airplanes for the buisness to purchased based on which planes we identified as having the lowest risk to the company. There are many ways to interpret this question whether that be minimizing financial risk, maximizing aircraft longeviety, or the option that we chose, minimizing the risk to passengers in the event of an incident or accident occuring on board. "
   ]
  },
  {
   "cell_type": "markdown",
   "metadata": {},
   "source": [
    "To answer this question we will parse the relevant data, isolate varibles that are most useful for identifying which airplanes are best at \n",
    "keeping passengers alive, and then these applying statistics to our dataset to discover which airplanes perform the best."
   ]
  },
  {
   "cell_type": "markdown",
   "metadata": {},
   "source": [
    "# Data"
   ]
  },
  {
   "cell_type": "markdown",
   "metadata": {},
   "source": [
    "The data that we are using for our analysis comes from a kaggle [dataset](https://www.kaggle.com/datasets/khsamaha/aviation-accident-database-synopses) which is taken from the National Transportation Safety Board. This dataset contains information on aircraft incidents and accidents in the United States dating back to 1962. This dataset takes the form of a CSV that we converted to a pandas dataframe for an easier time cleaning and manipulating the data. For full documentation on the data cleaning process refrence the Data_Exploration_Cleaning jupyter notebook in the notebooks folder. After the data was cleaned we exported it to a new CSV for manipulation, statistical aggregation, and use in tableau. "
   ]
  },
  {
   "cell_type": "markdown",
   "metadata": {},
   "source": [
    "# Methods"
   ]
  },
  {
   "cell_type": "markdown",
   "metadata": {},
   "source": [
    "## Make and Model"
   ]
  },
  {
   "cell_type": "markdown",
   "metadata": {},
   "source": [
    "Before we dive into the methodology we used for identifying planes that are best at keeping passengers safe in the event of an incident or accident it is important to note why we chose this metric over other potential metrics that one may think are better suited at answering a broad question such as \"how do we minimize risk\"."
   ]
  },
  {
   "cell_type": "markdown",
   "metadata": {},
   "source": [
    "The first metric we considered was a figuring out which planes have the least incidents and accidents as those planes should be considered the least risky. The problem with this is that our dataset does not contain data on ALL flights taken by each aircraft, just data on events that happen on aircrafts. This means that we have no way of knowing which airplanes have more accidents than others, just data on the outcomes of accidents when they do happen. If we had data on how many flights took place for each make and model in the given time frame we could have made this analysis, but with what we had it was not possible."
   ]
  },
  {
   "cell_type": "markdown",
   "metadata": {},
   "source": [
    "The second metric that we considered was using a net cost function based on all of the factors that we had to try to come up with a overall monetary cost of each plane crashing based on a [model](https://www.nlr.org/wp-content/uploads/2019/10/App-11-NLR-9-CR-2008-307.pdf) origionally put out by the Netherlands Air Transport Safety Institute. However this model requires us to have the cost of each craft, the insurance value of each craft, the cost of a closure at the airport that has to deal with the recovery from the accident, and the amount of damage that the aircraft sustained, which was not contained in our dataset."
   ]
  },
  {
   "cell_type": "markdown",
   "metadata": {},
   "source": [
    "This led us to approaching the question from an angle centered around minimizing injury as we have data on the severity of injury for each event. At first we were measuring which airplanes were best at keeping passengers uninjured, but we dicided that it was more important to focus on minimizing major and fatal injuries as minor injuries, while unfortunate, do not outweigh the need to prevent death and permanent injury.  "
   ]
  },
  {
   "cell_type": "markdown",
   "metadata": {},
   "source": [
    "To find this value for each plane we created a new variable calculating the passengers per flight which was equal to the sum of the major injury, minor injury, fatal injury, and uninjured columns combined. Then we constructed a variable equal to the number of major injuries plus the number of fatal injuries in each event. Finally we divided the number of major and fatal injuries by the number of passengers to get the percent of passengers seriously injured or killed. We then grouped our data by each model of plane and sorted by percent of passengers with serious and fatal injuries to find the best and worst planes. "
   ]
  },
  {
   "cell_type": "markdown",
   "metadata": {},
   "source": [
    "## Additional Metrics"
   ]
  },
  {
   "cell_type": "markdown",
   "metadata": {},
   "source": [
    "## Engine"
   ]
  },
  {
   "cell_type": "markdown",
   "metadata": {},
   "source": [
    "The first of these additional metrics that we chose to investigate was engine type, as we hypothesized different engine types could affect plane safety in the event of an accident or incident. We had already constructed our measurement variable as was outlined previously in this document, so all we had to do was group our data by engine type and sort our data by percent of passengers with serious or fatal injuries. We also performed this calculation for number of engines as looking at both engine type and number gives us a better picture of how important engine specifications are for airplane safety."
   ]
  },
  {
   "cell_type": "markdown",
   "metadata": {},
   "source": [
    "## Location"
   ]
  },
  {
   "cell_type": "markdown",
   "metadata": {},
   "source": [
    "The next metric we looked at was location, as there are many reasons to believe that the area you are flying over has an effect on the number of serious and fatal injuries sustained in the event of an accident. We chose to group this by states as our data had information on what state the plane was flying over at the time of the incident. Not only do different states have different weather conditions, geographical conditions, and atmospheric conditions that can affect the performance of a plane, but you also have to consider the developmental conditions of the area you are flying over in the event of an emergency. For example if you are flying over a sparsely populated area with the nearest airport being hundreds of miles away then your options in the event of an emergency landing become much worse than if you were flying near a major airport that could accomidate an emergency landing. The process that we used to extract the state information from the location information is also in the Data_Exploration_cleaning jupyter notebook. Once we had this information we applied the same groupby and sorting process that we used for the other metrics to find which states are best to be flying over in the event of an accident."
   ]
  },
  {
   "cell_type": "markdown",
   "metadata": {},
   "source": [
    "## Weather"
   ]
  },
  {
   "cell_type": "markdown",
   "metadata": {},
   "source": [
    "While the general climate of the area is important to consider for plane safety, the current weather conditions at the time of the incident are also important to examine, as the presence of incliment weather can mess with a plane's ability to navigate safely. The dataset had information on if there were visual meteorological conditions,  conditions shown on instrumentation, or unknown weather conditions at the time of the event. We sorted these by the same way that we did for the other variables."
   ]
  },
  {
   "cell_type": "markdown",
   "metadata": {},
   "source": [
    "## Purpose of Flight"
   ]
  },
  {
   "cell_type": "markdown",
   "metadata": {},
   "source": [
    "The purpose of the flight is also important to consider as it can help us recommend specific ventures to avoid for being too risky, and it can help us to identify ventures to pursue for being safer. As with the other metrics, we grouped and sorted the data by percent of passengers with serious and fatal injuries to find which ventures are safest and which are the most dangerous."
   ]
  },
  {
   "cell_type": "markdown",
   "metadata": {},
   "source": [
    "## Phase of Flight"
   ]
  },
  {
   "cell_type": "markdown",
   "metadata": {},
   "source": [
    "The final metric we looked at was the phase of flight that the event took place in. Now this metric differs from the others due to the fact that all flights go through all of these phases so we can't exactly recommend to avoid one phase or another. What we can do is find out which phases of flight have the worst outcomes for passengers and recommend additional safety protocols be put in place for these phases in an attempt to improve major and fatal accident rates for them. We applied the same grouping and sorting procedure to this metric as we did all the others."
   ]
  },
  {
   "cell_type": "markdown",
   "metadata": {},
   "source": [
    "# Results"
   ]
  },
  {
   "cell_type": "markdown",
   "metadata": {},
   "source": [
    "## Make and Model"
   ]
  },
  {
   "cell_type": "markdown",
   "metadata": {},
   "source": [
    "First, we will be examining the results of our make and model analysis as that is the primary metric we are looking at in order to make our recommendation. We already imported our data and the required libraries for analysis earlier in this notebook so we will be going right into it."
   ]
  },
  {
   "cell_type": "code",
   "execution_count": 63,
   "metadata": {},
   "outputs": [
    {
     "data": {
      "text/plain": [
       "(0.0, 12.0)"
      ]
     },
     "execution_count": 63,
     "metadata": {},
     "output_type": "execute_result"
    },
    {
     "data": {
      "image/png": "[encoded data removed]",
      "text/plain": [
       "<Figure size 1200x600 with 2 Axes>"
      ]
     },
     "metadata": {},
     "output_type": "display_data"
    }
   ],
   "source": [
    "# This code creates a 2 plot subplot representing the percent of passengers sustaining serious or fatal injuries per plane, separated by\n",
    "#small (max capacity < 20) and large (max capacity > 20) airplanes, and then displays the top 10 most safe for each category (top 4 for large)\n",
    "x1 = top_ten_small_planes_model\n",
    "y1 = top_ten_small_planes_percmajor\n",
    "\n",
    "x2 = list(by_model_final_over_20.index)\n",
    "y2 = list(by_model_final_over_20['Percent.Serious.and.Fatal'])\n",
    "\n",
    "fig, ax = plt.subplots(1, 2, figsize = (12,6))\n",
    "\n",
    "# Plot data\n",
    "\n",
    "ax[0].bar(x1, y1)\n",
    "ax[1].bar(x2, y2)\n",
    "\n",
    "# Customize appearance\n",
    "ax[0].tick_params(axis=\"x\", labelrotation=90)\n",
    "ax[0].set_ylabel('Percent Serious or Fatal')\n",
    "ax[0].set_xlabel(\"Plane Model\")\n",
    "ax[0].set_title(\"Percent Serious or Fatal in Planes with a Capacity < 20\") \n",
    "ax[1].tick_params(axis=\"x\", labelrotation=90)\n",
    "ax[1].set_ylabel(\"Percent Serious or Fatal\")\n",
    "ax[1].set_xlabel(\"Plane Model\")\n",
    "ax[1].set_title(\"Percent Serious or Fatal in Planes with a Capacity > 20\") \n",
    "plt.ylim(0,12)"
   ]
  },
  {
   "cell_type": "code",
   "execution_count": 64,
   "metadata": {},
   "outputs": [
    {
     "data": {
      "text/html": [
       "<div>\n",
       "<style scoped>\n",
       "    .dataframe tbody tr th:only-of-type {\n",
       "        vertical-align: middle;\n",
       "    }\n",
       "\n",
       "    .dataframe tbody tr th {\n",
       "        vertical-align: top;\n",
       "    }\n",
       "\n",
       "    .dataframe thead th {\n",
       "        text-align: right;\n",
       "    }\n",
       "</style>\n",
       "<table border=\"1\" class=\"dataframe\">\n",
       "  <thead>\n",
       "    <tr style=\"text-align: right;\">\n",
       "      <th></th>\n",
       "      <th>Max.Capacity</th>\n",
       "      <th>Percent.Serious.and.Fatal</th>\n",
       "      <th>Percent.Uninjured</th>\n",
       "      <th>Counts.Per.Model</th>\n",
       "    </tr>\n",
       "    <tr>\n",
       "      <th>Make.Model</th>\n",
       "      <th></th>\n",
       "      <th></th>\n",
       "      <th></th>\n",
       "      <th></th>\n",
       "    </tr>\n",
       "  </thead>\n",
       "  <tbody>\n",
       "    <tr>\n",
       "      <th>boeing777</th>\n",
       "      <td>442</td>\n",
       "      <td>0.066079</td>\n",
       "      <td>97.268606</td>\n",
       "      <td>41</td>\n",
       "    </tr>\n",
       "    <tr>\n",
       "      <th>cessna180J</th>\n",
       "      <td>6</td>\n",
       "      <td>3.125000</td>\n",
       "      <td>89.062500</td>\n",
       "      <td>32</td>\n",
       "    </tr>\n",
       "    <tr>\n",
       "      <th>piperPA-20</th>\n",
       "      <td>4</td>\n",
       "      <td>6.060606</td>\n",
       "      <td>89.393939</td>\n",
       "      <td>33</td>\n",
       "    </tr>\n",
       "    <tr>\n",
       "      <th>boeing747</th>\n",
       "      <td>539</td>\n",
       "      <td>6.093990</td>\n",
       "      <td>93.853696</td>\n",
       "      <td>37</td>\n",
       "    </tr>\n",
       "    <tr>\n",
       "      <th>cessna180H</th>\n",
       "      <td>6</td>\n",
       "      <td>6.476190</td>\n",
       "      <td>80.952381</td>\n",
       "      <td>35</td>\n",
       "    </tr>\n",
       "    <tr>\n",
       "      <th>...</th>\n",
       "      <td>...</td>\n",
       "      <td>...</td>\n",
       "      <td>...</td>\n",
       "      <td>...</td>\n",
       "    </tr>\n",
       "    <tr>\n",
       "      <th>cessna421C</th>\n",
       "      <td>8</td>\n",
       "      <td>49.122807</td>\n",
       "      <td>50.000000</td>\n",
       "      <td>38</td>\n",
       "    </tr>\n",
       "    <tr>\n",
       "      <th>beechV35</th>\n",
       "      <td>4</td>\n",
       "      <td>52.000000</td>\n",
       "      <td>41.428571</td>\n",
       "      <td>35</td>\n",
       "    </tr>\n",
       "    <tr>\n",
       "      <th>piperPA34</th>\n",
       "      <td>7</td>\n",
       "      <td>57.175325</td>\n",
       "      <td>38.636364</td>\n",
       "      <td>44</td>\n",
       "    </tr>\n",
       "    <tr>\n",
       "      <th>air tractorAT502</th>\n",
       "      <td>2</td>\n",
       "      <td>61.111111</td>\n",
       "      <td>33.333333</td>\n",
       "      <td>36</td>\n",
       "    </tr>\n",
       "    <tr>\n",
       "      <th>piperPA25</th>\n",
       "      <td>2</td>\n",
       "      <td>86.666667</td>\n",
       "      <td>13.333333</td>\n",
       "      <td>30</td>\n",
       "    </tr>\n",
       "  </tbody>\n",
       "</table>\n",
       "<p>140 rows × 4 columns</p>\n",
       "</div>"
      ],
      "text/plain": [
       "                  Max.Capacity  Percent.Serious.and.Fatal  Percent.Uninjured  \\\n",
       "Make.Model                                                                     \n",
       "boeing777                  442                   0.066079          97.268606   \n",
       "cessna180J                   6                   3.125000          89.062500   \n",
       "piperPA-20                   4                   6.060606          89.393939   \n",
       "boeing747                  539                   6.093990          93.853696   \n",
       "cessna180H                   6                   6.476190          80.952381   \n",
       "...                        ...                        ...                ...   \n",
       "cessna421C                   8                  49.122807          50.000000   \n",
       "beechV35                     4                  52.000000          41.428571   \n",
       "piperPA34                    7                  57.175325          38.636364   \n",
       "air tractorAT502             2                  61.111111          33.333333   \n",
       "piperPA25                    2                  86.666667          13.333333   \n",
       "\n",
       "                  Counts.Per.Model  \n",
       "Make.Model                          \n",
       "boeing777                       41  \n",
       "cessna180J                      32  \n",
       "piperPA-20                      33  \n",
       "boeing747                       37  \n",
       "cessna180H                      35  \n",
       "...                            ...  \n",
       "cessna421C                      38  \n",
       "beechV35                        35  \n",
       "piperPA34                       44  \n",
       "air tractorAT502                36  \n",
       "piperPA25                       30  \n",
       "\n",
       "[140 rows x 4 columns]"
      ]
     },
     "execution_count": 64,
     "metadata": {},
     "output_type": "execute_result"
    }
   ],
   "source": [
    "#this calls a dataframe that indexes off of the make and model of the plane, contains information for max capacity, mean of percent of passengers\n",
    "#seriously or fatally injured, mean of percent of passengers uninjured, and the number of times each model shows up in our cleaned data, and\n",
    "#is sorted by mean percent of passengers seriously or fatally injured.\n",
    "make_model_mean_percentuninj"
   ]
  },
  {
   "cell_type": "markdown",
   "metadata": {},
   "source": [
    "Our analysis of plane makes and models showed that the best plane for keeping passengers not seriously injured or dead in the event of a accident or incident is the boeing 777, with an average of only .066% of passengers being seriously or fatally injured in the event of an accident or incident. This is far and away the best plane that we have for overall safety of passengers as the next best plane, the Cessna 180J, jumps up to an average of 3.125% of passengers seriously or fatally injured. "
   ]
  },
  {
   "cell_type": "markdown",
   "metadata": {},
   "source": [
    "While we could just recommend the Boeing 777, this would be a questionable business decision as the 777 is massive at a max capacity of 442 passengers which makes it incapable of being used in most general applications. This is the reason that we decided to split our data by airplane capacity and recommend some larger airplanes and some smaller airplanes for general applications. Another reason to make this split is the cost of the Boeing 777 is around 440 million dollars which may be cost prohibitive for a company just getting into the airplane industry. For these reasons it is important for us to also mention smaller aircraft that have a low rate of serious and fatal injury in the event of an accident or incident. "
   ]
  },
  {
   "cell_type": "markdown",
   "metadata": {},
   "source": [
    "The best of the small planes when it comes to serious and fatal injury rate is the Cessna 180J, with a 3.125% average rate of serious or fatal injury in the event of a incident or accident. If you look at the top 10 for small planes, you can see that the Cessna 180H and regular Cessna 180 are also represented here which gives you different specification options for similar makes of aircraft."
   ]
  },
  {
   "cell_type": "markdown",
   "metadata": {},
   "source": [
    "## Engine"
   ]
  },
  {
   "cell_type": "markdown",
   "metadata": {},
   "source": [
    "Next we will be looking at the results for how engine type and number of engines affect major and fatal injury rates in an event of an accident or incident."
   ]
  },
  {
   "cell_type": "code",
   "execution_count": 65,
   "metadata": {},
   "outputs": [
    {
     "data": {
      "text/plain": [
       "Text(0.5, 1.0, 'Percent Serious or Fatal by Engine Type')"
      ]
     },
     "execution_count": 65,
     "metadata": {},
     "output_type": "execute_result"
    },
    {
     "data": {
      "image/png": "[encoded data removed]",
      "text/plain": [
       "<Figure size 640x480 with 1 Axes>"
      ]
     },
     "metadata": {},
     "output_type": "display_data"
    }
   ],
   "source": [
    "#this code creates a plot of serious and fatal injury rate by engine type\n",
    "x = list(engine_type.index)\n",
    "y = list(engine_type['Percent.Serious.and.Fatal'])\n",
    "fig, ax = plt.subplots()\n",
    "\n",
    "# Plot data\n",
    "ax.bar(x, y)\n",
    "\n",
    "# Customize appearance\n",
    "ax.tick_params(axis=\"x\", labelrotation=90)\n",
    "\n",
    "ax.set_ylabel(\"Percent Serious or Fatal\")\n",
    "\n",
    "ax.set_xlabel('Engine Type')\n",
    "\n",
    "ax.set_title(\"Percent Serious or Fatal by Engine Type\")"
   ]
  },
  {
   "cell_type": "code",
   "execution_count": 66,
   "metadata": {},
   "outputs": [
    {
     "data": {
      "text/html": [
       "<div>\n",
       "<style scoped>\n",
       "    .dataframe tbody tr th:only-of-type {\n",
       "        vertical-align: middle;\n",
       "    }\n",
       "\n",
       "    .dataframe tbody tr th {\n",
       "        vertical-align: top;\n",
       "    }\n",
       "\n",
       "    .dataframe thead th {\n",
       "        text-align: right;\n",
       "    }\n",
       "</style>\n",
       "<table border=\"1\" class=\"dataframe\">\n",
       "  <thead>\n",
       "    <tr style=\"text-align: right;\">\n",
       "      <th></th>\n",
       "      <th>Percent.Serious.and.Fatal</th>\n",
       "      <th>Percent.Uninjured</th>\n",
       "    </tr>\n",
       "    <tr>\n",
       "      <th>Engine.Type</th>\n",
       "      <th></th>\n",
       "      <th></th>\n",
       "    </tr>\n",
       "  </thead>\n",
       "  <tbody>\n",
       "    <tr>\n",
       "      <th>Turbo Prop</th>\n",
       "      <td>38.805153</td>\n",
       "      <td>55.733252</td>\n",
       "    </tr>\n",
       "    <tr>\n",
       "      <th>Turbo Shaft</th>\n",
       "      <td>33.333333</td>\n",
       "      <td>33.333333</td>\n",
       "    </tr>\n",
       "    <tr>\n",
       "      <th>Reciprocating</th>\n",
       "      <td>24.176204</td>\n",
       "      <td>66.701063</td>\n",
       "    </tr>\n",
       "    <tr>\n",
       "      <th>Turbo Fan</th>\n",
       "      <td>9.682887</td>\n",
       "      <td>89.415767</td>\n",
       "    </tr>\n",
       "  </tbody>\n",
       "</table>\n",
       "</div>"
      ],
      "text/plain": [
       "               Percent.Serious.and.Fatal  Percent.Uninjured\n",
       "Engine.Type                                                \n",
       "Turbo Prop                     38.805153          55.733252\n",
       "Turbo Shaft                    33.333333          33.333333\n",
       "Reciprocating                  24.176204          66.701063\n",
       "Turbo Fan                       9.682887          89.415767"
      ]
     },
     "execution_count": 66,
     "metadata": {},
     "output_type": "execute_result"
    }
   ],
   "source": [
    "engine_type"
   ]
  },
  {
   "cell_type": "markdown",
   "metadata": {},
   "source": [
    "The turbo fan engine is the clear winner for best engine type when it comes to preventing serious and fatal injuries in the event of an accident or incident with the next best engine type having a 2.5 times worse rate. "
   ]
  },
  {
   "cell_type": "code",
   "execution_count": 67,
   "metadata": {},
   "outputs": [
    {
     "data": {
      "text/plain": [
       "44548      Unknown\n",
       "57144    Turbo Fan\n",
       "60507          NaN\n",
       "65701    Turbo Fan\n",
       "65828    Turbo Fan\n",
       "65846          NaN\n",
       "66041          NaN\n",
       "68209          NaN\n",
       "68350          NaN\n",
       "69319    Turbo Fan\n",
       "69871          NaN\n",
       "70508          NaN\n",
       "70817          NaN\n",
       "71076          NaN\n",
       "71307          NaN\n",
       "72986          NaN\n",
       "73754          NaN\n",
       "77736          NaN\n",
       "78210          NaN\n",
       "78956    Turbo Fan\n",
       "79194          NaN\n",
       "79405    Turbo Fan\n",
       "79827          NaN\n",
       "80043          NaN\n",
       "80306          NaN\n",
       "80485          NaN\n",
       "80961          NaN\n",
       "81280          NaN\n",
       "82139          NaN\n",
       "82540          NaN\n",
       "83288          NaN\n",
       "83738          NaN\n",
       "84431          NaN\n",
       "86532          NaN\n",
       "86928          NaN\n",
       "87001          NaN\n",
       "87415          NaN\n",
       "89364          NaN\n",
       "89752          NaN\n",
       "90049          NaN\n",
       "90062          NaN\n",
       "Name: Engine.Type, dtype: object"
      ]
     },
     "execution_count": 67,
     "metadata": {},
     "output_type": "execute_result"
    }
   ],
   "source": [
    "df_boeing = df_trimmed[df_trimmed['Make.Model'] == 'boeing777']\n",
    "df_boeing['Engine.Type']"
   ]
  },
  {
   "cell_type": "markdown",
   "metadata": {},
   "source": [
    "This is interesting, it looks like there are only turbo fan engines and nans present for engine type for events with the Boeing 777, and upon a quick internet [search](https://www.geaerospace.com/propulsion/commercial/ge9x), we confirm that all Boeing 777s use turbofan engines. This makes sense that the safest plane has the safest engine and makes us even more confident in our recommendation of the Boeing 777. Lets see what it looks like for all the other large aircraft."
   ]
  },
  {
   "cell_type": "code",
   "execution_count": 68,
   "metadata": {},
   "outputs": [
    {
     "data": {
      "text/plain": [
       "Engine.Type\n",
       "Turbo Fan    64\n",
       "Unknown       5\n",
       "Turbo Jet     1\n",
       "Name: count, dtype: int64"
      ]
     },
     "execution_count": 68,
     "metadata": {},
     "output_type": "execute_result"
    }
   ],
   "source": [
    "df_small = df_trimmed[df_trimmed['Max.Capacity'] > 20]\n",
    "df_small['Engine.Type'].value_counts()"
   ]
  },
  {
   "cell_type": "markdown",
   "metadata": {},
   "source": [
    "It looks like its not just the Boeing 777 that uses a turbo fan engine, its almost all of the large aircraft in the data. But what about the best small aircraft that we looked at while examining make and model data?"
   ]
  },
  {
   "cell_type": "code",
   "execution_count": 69,
   "metadata": {},
   "outputs": [
    {
     "data": {
      "text/plain": [
       "613      Reciprocating\n",
       "1921     Reciprocating\n",
       "2128     Reciprocating\n",
       "2672     Reciprocating\n",
       "56687    Reciprocating\n",
       "57042    Reciprocating\n",
       "57298    Reciprocating\n",
       "59415    Reciprocating\n",
       "60196    Reciprocating\n",
       "61154    Reciprocating\n",
       "66518    Reciprocating\n",
       "67178    Reciprocating\n",
       "68522    Reciprocating\n",
       "70012    Reciprocating\n",
       "70394    Reciprocating\n",
       "70941    Reciprocating\n",
       "71681    Reciprocating\n",
       "72474    Reciprocating\n",
       "73742    Reciprocating\n",
       "74127    Reciprocating\n",
       "74283    Reciprocating\n",
       "76234    Reciprocating\n",
       "76486    Reciprocating\n",
       "76920    Reciprocating\n",
       "77440    Reciprocating\n",
       "81132    Reciprocating\n",
       "87387    Reciprocating\n",
       "87392    Reciprocating\n",
       "87717    Reciprocating\n",
       "87731    Reciprocating\n",
       "88312              NaN\n",
       "89636    Reciprocating\n",
       "Name: Engine.Type, dtype: object"
      ]
     },
     "execution_count": 69,
     "metadata": {},
     "output_type": "execute_result"
    }
   ],
   "source": [
    "df_trimmed[df_trimmed['Make.Model'] == 'cessna180J']['Engine.Type']"
   ]
  },
  {
   "cell_type": "markdown",
   "metadata": {},
   "source": [
    "When we look at the engine type for the best small plane from our make and model analysis we see that the Cessna 180J uses a reciprocating engine, which is the second best engine type when it comes to preventing serious or fatal injuries. There seems to be a high correlation between good planes and good engines."
   ]
  },
  {
   "cell_type": "code",
   "execution_count": 70,
   "metadata": {},
   "outputs": [
    {
     "data": {
      "text/plain": [
       "Text(0.5, 1.0, 'Percent Serious or Fatal by Engine Number')"
      ]
     },
     "execution_count": 70,
     "metadata": {},
     "output_type": "execute_result"
    },
    {
     "data": {
      "image/png": "[encoded data removed]",
      "text/plain": [
       "<Figure size 640x480 with 1 Axes>"
      ]
     },
     "metadata": {},
     "output_type": "display_data"
    }
   ],
   "source": [
    "engine_num.sort_values(by = 'Percent.Uninjured')\n",
    "\n",
    "x = list(engine_num.index)\n",
    "y = list(engine_num['Percent.Serious.and.Fatal'])\n",
    "fig, ax = plt.subplots()\n",
    "\n",
    "# Plot data\n",
    "ax.bar(x, y)\n",
    "\n",
    "# Customize appearance\n",
    "ax.tick_params(axis=\"x\", labelrotation=90)\n",
    "\n",
    "ax.set_ylabel(\"Percent Serious or Fatal\")\n",
    "\n",
    "ax.set_xlabel('Engine Number')\n",
    "\n",
    "ax.set_title(\"Percent Serious or Fatal by Engine Number\")"
   ]
  },
  {
   "cell_type": "markdown",
   "metadata": {},
   "source": [
    "When we look at engine number we get another example of large planes being better than small ones, with planes with 4 engines well outperforming planes with 2 or 1 engine. When we get into regression we will learn to control for these similarities to try to isolate which of these effects has the greatest impact on preventing major injury and death."
   ]
  },
  {
   "cell_type": "markdown",
   "metadata": {},
   "source": [
    "We did consider using the string contains method to filter to see if engine failure was present in the report status, but as we can see when we pull up the values for report status, there is no consistent language that is used in the reports that could let us parse through it and find all cases of engine failure."
   ]
  },
  {
   "cell_type": "code",
   "execution_count": 71,
   "metadata": {},
   "outputs": [
    {
     "data": {
      "text/plain": [
       "Report.Status\n",
       "Probable Cause                                                                                                                                                                                                                                                                                                                                                           3047\n",
       "Foreign                                                                                                                                                                                                                                                                                                                                                                    66\n",
       "The pilot's failure to maintain directional control during the landing roll.                                                                                                                                                                                                                                                                                               28\n",
       "<br /><br />                                                                                                                                                                                                                                                                                                                                                               24\n",
       "A loss of engine power for undetermined reasons.                                                                                                                                                                                                                                                                                                                           21\n",
       "                                                                                                                                                                                                                                                                                                                                                                         ... \n",
       "The pilot's failure to use the manufacturer's checklist to troubleshoot the perceived malfunction and thereby ensure the position of the landing gear before landing. The reason the landing gear were not down and locked could not be determined, as no mechanical failures or anomalies were reported before the accident or observed during postaccident testing.       1\n",
       "The non-certificated pilots failure to maintain clearance from power lines. Contributing to the accident was the pilots impairment due to performance-impairing drugs.                                                                                                                                                                                                    1\n",
       "The pilot did not maintain directional control during landing, which resulted in a runway excursion.                                                                                                                                                                                                                                                                        1\n",
       "The pilot did not extend the landing gear before landing.                                                                                                                                                                                                                                                                                                                   1\n",
       "An in-flight collision with a bird while on approach.                                                                                                                                                                                                                                                                                                                       1\n",
       "Name: count, Length: 5989, dtype: int64"
      ]
     },
     "execution_count": 71,
     "metadata": {},
     "output_type": "execute_result"
    }
   ],
   "source": [
    "df_trimmed['Report.Status'].value_counts()"
   ]
  },
  {
   "cell_type": "markdown",
   "metadata": {},
   "source": [
    "If there were and the term \"engine failure\" was required to be present in the reports of all cases involving engine failure the code to parse it would look like:"
   ]
  },
  {
   "cell_type": "code",
   "execution_count": 72,
   "metadata": {},
   "outputs": [
    {
     "data": {
      "text/plain": [
       "17       False\n",
       "18       False\n",
       "20       False\n",
       "21       False\n",
       "29       False\n",
       "         ...  \n",
       "90303      NaN\n",
       "90305      NaN\n",
       "90316      NaN\n",
       "90324      NaN\n",
       "90332      NaN\n",
       "Name: Report.Status, Length: 11376, dtype: object"
      ]
     },
     "execution_count": 72,
     "metadata": {},
     "output_type": "execute_result"
    }
   ],
   "source": [
    "df_trimmed['Report.Status'].str.contains(\"engine failure\")"
   ]
  },
  {
   "cell_type": "markdown",
   "metadata": {},
   "source": [
    "## Location"
   ]
  },
  {
   "cell_type": "markdown",
   "metadata": {},
   "source": [
    "The next variable we looked at was location, specifically separating on a state by state basis to find which states had the best condidions for preventing major injury and death, as well as looking at which states appeared most often in our data"
   ]
  },
  {
   "cell_type": "code",
   "execution_count": 73,
   "metadata": {},
   "outputs": [
    {
     "data": {
      "image/png": "[encoded data removed]",
      "text/plain": [
       "<Figure size 1200x800 with 4 Axes>"
      ]
     },
     "metadata": {},
     "output_type": "display_data"
    }
   ],
   "source": [
    "x1 = list(location_of_flight.index)[:10]\n",
    "y1= list(location_of_flight['Percent.Serious.and.Fatal'])[:10]\n",
    "\n",
    "y2 = list(df_location['Location'].value_counts())[:10]\n",
    "x2 = list(df_location['Location'].value_counts().index)[:10]\n",
    "\n",
    "x3 = list(location_of_flight.index)[-10:]\n",
    "y3= list(location_of_flight['Percent.Serious.and.Fatal'])[-10:]\n",
    "\n",
    "y4 = list(df_location['Location'].value_counts())[-10:]\n",
    "x4 = list(df_location['Location'].value_counts().index)[-10:]\n",
    "\n",
    "fig, ax = plt.subplots(2,2, figsize = (12,8))\n",
    "\n",
    "# first graph\n",
    "ax[1][0].bar(x1, y1)\n",
    "\n",
    "ax[1][0].tick_params(axis=\"x\", labelrotation=90)\n",
    "\n",
    "ax[1][0].set_ylabel(\"Percent Serious or Fatal\")\n",
    "\n",
    "ax[1][0].set_xlabel('Location')\n",
    "\n",
    "ax[1][0].set_title(\"Locations with the Best Major Injury Percentage\")\n",
    "\n",
    "# second graph\n",
    "ax[0][1].bar(x2, y2)\n",
    "\n",
    "ax[0][1].tick_params(axis=\"x\", labelrotation=90)\n",
    "\n",
    "ax[0][1].set_ylabel(\"Number of Accidents\")\n",
    "\n",
    "ax[0][1].set_xlabel('Location')\n",
    "\n",
    "ax[0][1].set_title(\"Most Accidents by Location\")\n",
    "\n",
    "\n",
    "# third graph\n",
    "                       \n",
    "ax[0][0].bar(x3, y3)\n",
    "\n",
    "ax[0][0].tick_params(axis=\"x\", labelrotation=90)\n",
    "\n",
    "ax[0][0].set_ylabel(\"Percent Serious or Fatal\")\n",
    "\n",
    "ax[0][0].set_xlabel('Location')\n",
    "\n",
    "ax[0][0].set_title(\"Locations with the Worst Major Injury Percentage\")\n",
    "\n",
    "# second graph\n",
    "ax[1][1].bar(x4, y4)\n",
    "\n",
    "ax[1][1].tick_params(axis=\"x\", labelrotation=90)\n",
    "\n",
    "ax[1][1].set_ylabel(\"Number of Accidents\")\n",
    "\n",
    "ax[1][1].set_xlabel('Location')\n",
    "\n",
    "ax[1][1].set_title('Least Accidents by Location')\n",
    "\n",
    "fig.tight_layout()"
   ]
  },
  {
   "cell_type": "markdown",
   "metadata": {},
   "source": [
    "When we look at the locations with the best rate of preventing serious injury or death in the event of an accident or incident we have Washington D.C with a perfect record for preventing major injury and death in the event of an incident or accident. At first you might think that this might be due to one of the factors that we talked about in our methods section such as the infrastructure or natural features of the area, but if you dig deeper you can find a better reason for this. "
   ]
  },
  {
   "cell_type": "code",
   "execution_count": 74,
   "metadata": {},
   "outputs": [
    {
     "data": {
      "text/html": [
       "<div>\n",
       "<style scoped>\n",
       "    .dataframe tbody tr th:only-of-type {\n",
       "        vertical-align: middle;\n",
       "    }\n",
       "\n",
       "    .dataframe tbody tr th {\n",
       "        vertical-align: top;\n",
       "    }\n",
       "\n",
       "    .dataframe thead th {\n",
       "        text-align: right;\n",
       "    }\n",
       "</style>\n",
       "<table border=\"1\" class=\"dataframe\">\n",
       "  <thead>\n",
       "    <tr style=\"text-align: right;\">\n",
       "      <th></th>\n",
       "      <th>Event.Id</th>\n",
       "      <th>Investigation.Type</th>\n",
       "      <th>Event.Date</th>\n",
       "      <th>Location</th>\n",
       "      <th>Latitude</th>\n",
       "      <th>Longitude</th>\n",
       "      <th>Injury.Severity</th>\n",
       "      <th>Aircraft.damage</th>\n",
       "      <th>Make</th>\n",
       "      <th>Number.of.Engines</th>\n",
       "      <th>...</th>\n",
       "      <th>Total.Uninjured</th>\n",
       "      <th>Weather.Condition</th>\n",
       "      <th>Broad.phase.of.flight</th>\n",
       "      <th>Report.Status</th>\n",
       "      <th>Num.Passenger</th>\n",
       "      <th>Total.Injured</th>\n",
       "      <th>Percent.Serious.and.Fatal</th>\n",
       "      <th>Percent.Uninjured</th>\n",
       "      <th>Make.Model</th>\n",
       "      <th>Max.Capacity</th>\n",
       "    </tr>\n",
       "  </thead>\n",
       "  <tbody>\n",
       "    <tr>\n",
       "      <th>3416</th>\n",
       "      <td>20020917X04340</td>\n",
       "      <td>Incident</td>\n",
       "      <td>1982-12-05</td>\n",
       "      <td>DC</td>\n",
       "      <td>NaN</td>\n",
       "      <td>NaN</td>\n",
       "      <td>Incident</td>\n",
       "      <td>Minor</td>\n",
       "      <td>piper</td>\n",
       "      <td>2.0</td>\n",
       "      <td>...</td>\n",
       "      <td>4.0</td>\n",
       "      <td>VMC</td>\n",
       "      <td>Landing</td>\n",
       "      <td>Probable Cause</td>\n",
       "      <td>4.0</td>\n",
       "      <td>0.0</td>\n",
       "      <td>0.0</td>\n",
       "      <td>100.0</td>\n",
       "      <td>piperPA-23-250</td>\n",
       "      <td>7</td>\n",
       "    </tr>\n",
       "  </tbody>\n",
       "</table>\n",
       "<p>1 rows × 25 columns</p>\n",
       "</div>"
      ],
      "text/plain": [
       "            Event.Id Investigation.Type  Event.Date Location Latitude  \\\n",
       "3416  20020917X04340           Incident  1982-12-05       DC      NaN   \n",
       "\n",
       "     Longitude Injury.Severity Aircraft.damage   Make  Number.of.Engines  ...  \\\n",
       "3416       NaN        Incident           Minor  piper                2.0  ...   \n",
       "\n",
       "     Total.Uninjured Weather.Condition  Broad.phase.of.flight   Report.Status  \\\n",
       "3416             4.0               VMC                Landing  Probable Cause   \n",
       "\n",
       "      Num.Passenger  Total.Injured Percent.Serious.and.Fatal  \\\n",
       "3416            4.0            0.0                       0.0   \n",
       "\n",
       "     Percent.Uninjured      Make.Model  Max.Capacity  \n",
       "3416             100.0  piperPA-23-250             7  \n",
       "\n",
       "[1 rows x 25 columns]"
      ]
     },
     "execution_count": 74,
     "metadata": {},
     "output_type": "execute_result"
    }
   ],
   "source": [
    "df_trimmed[df_trimmed['Location'] == 'DC']"
   ]
  },
  {
   "cell_type": "markdown",
   "metadata": {},
   "source": [
    "There is only 1 data point that is in DC, and the reason for this is that there is a [17 mile restricted flight space](https://www.faa.gov/newsroom/restricted-airspace-0) surrounding the DC area due to the fact that most of the US federal government is contained in this area, making it a target for potential air attacks. This means that we can skip this data point as if we did recommend that we start flying routes over DC for safety, we would provoke the airforce to shoot our planes out of the sky."
   ]
  },
  {
   "cell_type": "markdown",
   "metadata": {},
   "source": [
    "The next best location that we have is Alaska, but again, it would be not great to recommend flights that fly over Alaska due to the fact that the only place that you would fly over Alaska to get to is Russia, with would also not be a great idea as this airspace is also restricted."
   ]
  },
  {
   "cell_type": "markdown",
   "metadata": {},
   "source": [
    "But when you look at the rest of the top 10 you can see that there is a group of states that would make a good flight route, if you connect Michigan, Minnesota, Idaho , North Dakota you get a good group of states that could be used for a Midwest to Pacific North airline. You would have to add in Montana, Wisconsin, and Washington, but as we can see when we look at their serious and fatal injury rate, neither of these are a major issue to include."
   ]
  },
  {
   "cell_type": "code",
   "execution_count": 75,
   "metadata": {},
   "outputs": [
    {
     "data": {
      "text/html": [
       "<div>\n",
       "<style scoped>\n",
       "    .dataframe tbody tr th:only-of-type {\n",
       "        vertical-align: middle;\n",
       "    }\n",
       "\n",
       "    .dataframe tbody tr th {\n",
       "        vertical-align: top;\n",
       "    }\n",
       "\n",
       "    .dataframe thead th {\n",
       "        text-align: right;\n",
       "    }\n",
       "</style>\n",
       "<table border=\"1\" class=\"dataframe\">\n",
       "  <thead>\n",
       "    <tr style=\"text-align: right;\">\n",
       "      <th></th>\n",
       "      <th>Percent.Serious.and.Fatal</th>\n",
       "      <th>Percent.Uninjured</th>\n",
       "    </tr>\n",
       "    <tr>\n",
       "      <th>Location</th>\n",
       "      <th></th>\n",
       "      <th></th>\n",
       "    </tr>\n",
       "  </thead>\n",
       "  <tbody>\n",
       "    <tr>\n",
       "      <th>MT</th>\n",
       "      <td>25.111857</td>\n",
       "      <td>65.659955</td>\n",
       "    </tr>\n",
       "  </tbody>\n",
       "</table>\n",
       "</div>"
      ],
      "text/plain": [
       "          Percent.Serious.and.Fatal  Percent.Uninjured\n",
       "Location                                              \n",
       "MT                        25.111857          65.659955"
      ]
     },
     "execution_count": 75,
     "metadata": {},
     "output_type": "execute_result"
    }
   ],
   "source": [
    "location_of_flight[location_of_flight.index == 'MT']"
   ]
  },
  {
   "cell_type": "code",
   "execution_count": 76,
   "metadata": {},
   "outputs": [
    {
     "data": {
      "text/html": [
       "<div>\n",
       "<style scoped>\n",
       "    .dataframe tbody tr th:only-of-type {\n",
       "        vertical-align: middle;\n",
       "    }\n",
       "\n",
       "    .dataframe tbody tr th {\n",
       "        vertical-align: top;\n",
       "    }\n",
       "\n",
       "    .dataframe thead th {\n",
       "        text-align: right;\n",
       "    }\n",
       "</style>\n",
       "<table border=\"1\" class=\"dataframe\">\n",
       "  <thead>\n",
       "    <tr style=\"text-align: right;\">\n",
       "      <th></th>\n",
       "      <th>Percent.Serious.and.Fatal</th>\n",
       "      <th>Percent.Uninjured</th>\n",
       "    </tr>\n",
       "    <tr>\n",
       "      <th>Location</th>\n",
       "      <th></th>\n",
       "      <th></th>\n",
       "    </tr>\n",
       "  </thead>\n",
       "  <tbody>\n",
       "    <tr>\n",
       "      <th>WI</th>\n",
       "      <td>22.991968</td>\n",
       "      <td>64.538153</td>\n",
       "    </tr>\n",
       "  </tbody>\n",
       "</table>\n",
       "</div>"
      ],
      "text/plain": [
       "          Percent.Serious.and.Fatal  Percent.Uninjured\n",
       "Location                                              \n",
       "WI                        22.991968          64.538153"
      ]
     },
     "execution_count": 76,
     "metadata": {},
     "output_type": "execute_result"
    }
   ],
   "source": [
    "location_of_flight[location_of_flight.index == 'WI']"
   ]
  },
  {
   "cell_type": "code",
   "execution_count": 77,
   "metadata": {},
   "outputs": [
    {
     "data": {
      "text/html": [
       "<div>\n",
       "<style scoped>\n",
       "    .dataframe tbody tr th:only-of-type {\n",
       "        vertical-align: middle;\n",
       "    }\n",
       "\n",
       "    .dataframe tbody tr th {\n",
       "        vertical-align: top;\n",
       "    }\n",
       "\n",
       "    .dataframe thead th {\n",
       "        text-align: right;\n",
       "    }\n",
       "</style>\n",
       "<table border=\"1\" class=\"dataframe\">\n",
       "  <thead>\n",
       "    <tr style=\"text-align: right;\">\n",
       "      <th></th>\n",
       "      <th>Percent.Serious.and.Fatal</th>\n",
       "      <th>Percent.Uninjured</th>\n",
       "    </tr>\n",
       "    <tr>\n",
       "      <th>Location</th>\n",
       "      <th></th>\n",
       "      <th></th>\n",
       "    </tr>\n",
       "  </thead>\n",
       "  <tbody>\n",
       "    <tr>\n",
       "      <th>WA</th>\n",
       "      <td>22.463768</td>\n",
       "      <td>68.366778</td>\n",
       "    </tr>\n",
       "  </tbody>\n",
       "</table>\n",
       "</div>"
      ],
      "text/plain": [
       "          Percent.Serious.and.Fatal  Percent.Uninjured\n",
       "Location                                              \n",
       "WA                        22.463768          68.366778"
      ]
     },
     "execution_count": 77,
     "metadata": {},
     "output_type": "execute_result"
    }
   ],
   "source": [
    "location_of_flight[location_of_flight.index == 'WA']"
   ]
  },
  {
   "cell_type": "markdown",
   "metadata": {},
   "source": [
    "As a bonus, this would create an airline with access to 3 major airport hubs with MSP in Minnesota, DTW in Michigan, and SEA in Washington. "
   ]
  },
  {
   "cell_type": "markdown",
   "metadata": {},
   "source": [
    "## Weather"
   ]
  },
  {
   "cell_type": "markdown",
   "metadata": {},
   "source": [
    "For our weather we don't have to do as much work as we did with the other variables as there are only two different values that we have to compare"
   ]
  },
  {
   "cell_type": "code",
   "execution_count": 78,
   "metadata": {},
   "outputs": [
    {
     "data": {
      "text/plain": [
       "Text(0.5, 1.0, 'Percent Serious or Fatal by Weather Condition')"
      ]
     },
     "execution_count": 78,
     "metadata": {},
     "output_type": "execute_result"
    },
    {
     "data": {
      "image/png": "[encoded data removed]",
      "text/plain": [
       "<Figure size 640x480 with 1 Axes>"
      ]
     },
     "metadata": {},
     "output_type": "display_data"
    }
   ],
   "source": [
    "#Bar graph by weather condition\n",
    "\n",
    "x = list(weather_condition.index)\n",
    "y = list(weather_condition['Percent.Serious.and.Fatal'])\n",
    "fig, ax = plt.subplots()\n",
    "\n",
    "# Plot data\n",
    "ax.bar(x, y)\n",
    "\n",
    "# Customize appearance\n",
    "ax.tick_params(axis=\"x\", labelrotation=90)\n",
    "\n",
    "ax.set_ylabel(\"Percent Serious or Fatal\")\n",
    "\n",
    "ax.set_xlabel('Weather Condition')\n",
    "\n",
    "ax.set_title(\"Percent Serious or Fatal by Weather Condition\")"
   ]
  },
  {
   "cell_type": "code",
   "execution_count": 79,
   "metadata": {},
   "outputs": [
    {
     "data": {
      "text/html": [
       "<div>\n",
       "<style scoped>\n",
       "    .dataframe tbody tr th:only-of-type {\n",
       "        vertical-align: middle;\n",
       "    }\n",
       "\n",
       "    .dataframe tbody tr th {\n",
       "        vertical-align: top;\n",
       "    }\n",
       "\n",
       "    .dataframe thead th {\n",
       "        text-align: right;\n",
       "    }\n",
       "</style>\n",
       "<table border=\"1\" class=\"dataframe\">\n",
       "  <thead>\n",
       "    <tr style=\"text-align: right;\">\n",
       "      <th></th>\n",
       "      <th>Percent.Serious.and.Fatal</th>\n",
       "      <th>Percent.Uninjured</th>\n",
       "    </tr>\n",
       "    <tr>\n",
       "      <th>Weather.Condition</th>\n",
       "      <th></th>\n",
       "      <th></th>\n",
       "    </tr>\n",
       "  </thead>\n",
       "  <tbody>\n",
       "    <tr>\n",
       "      <th>IMC</th>\n",
       "      <td>66.797131</td>\n",
       "      <td>23.951785</td>\n",
       "    </tr>\n",
       "    <tr>\n",
       "      <th>VMC</th>\n",
       "      <td>21.970551</td>\n",
       "      <td>68.789256</td>\n",
       "    </tr>\n",
       "  </tbody>\n",
       "</table>\n",
       "</div>"
      ],
      "text/plain": [
       "                   Percent.Serious.and.Fatal  Percent.Uninjured\n",
       "Weather.Condition                                              \n",
       "IMC                                66.797131          23.951785\n",
       "VMC                                21.970551          68.789256"
      ]
     },
     "execution_count": 79,
     "metadata": {},
     "output_type": "execute_result"
    }
   ],
   "source": [
    "weather_condition"
   ]
  },
  {
   "cell_type": "markdown",
   "metadata": {},
   "source": [
    "To get a better picture of what this data means we have to find the real meaning of IMC (Instrument Meteorological Conditions) vs VMC (Visual Meteorological Conditions). According to the Federal Air Administration, [VMC](https://www.faa.gov/air_traffic/publications/atpubs/pcg_html/glossary-v.html#:~:text=VISUAL%20METEOROLOGICAL%20CONDITIONS%2D%20Meteorological%20conditions,(See%20INSTRUMENT%20FLIGHT%20RULES.)) means the weather is good enough for pilots to be able to navigate visually, and [IMC](https://www.faa.gov/air_traffic/publications/atpubs/pcg_html/glossary-i.html#$INSTRUMENT%20METEOROLOGICAL%20CONDITIONS) means that weather conditions are bad enough that pilots should be navigating by their instruments instead of visually. "
   ]
  },
  {
   "cell_type": "markdown",
   "metadata": {},
   "source": [
    "Knowing this, we can interpret the data much better. We can see that there is a much lower average rate of major or fatal injuries when the pilot is flying under visual meteorological conditions compared to when they are flying under instrument meteorological conditions. All this is saying is that flying in good weather is better than flying in bad weather"
   ]
  },
  {
   "cell_type": "markdown",
   "metadata": {},
   "source": [
    "## Purpose of Flight"
   ]
  },
  {
   "cell_type": "code",
   "execution_count": 80,
   "metadata": {},
   "outputs": [
    {
     "data": {
      "image/png": "[encoded data removed]",
      "text/plain": [
       "<Figure size 640x480 with 1 Axes>"
      ]
     },
     "metadata": {},
     "output_type": "display_data"
    }
   ],
   "source": [
    "x = list(purpose_of_flight.index)\n",
    "y = list(purpose_of_flight['Percent.Serious.and.Fatal'])\n",
    "fig, ax = plt.subplots()\n",
    "\n",
    "#Plot data\n",
    "ax.bar(x, y)\n",
    "\n",
    "#Customize appearance\n",
    "ax.tick_params(axis=\"x\", labelrotation=90)\n",
    "\n",
    "ax.set_ylabel(\"Percent Serious or Fatal\")\n",
    "\n",
    "ax.set_xlabel('Purpose of Flight')\n",
    "\n",
    "ax.set_title(\"Percent Serious or Fatal by Purpose of Flight\")\n",
    "\n",
    "plt.show()"
   ]
  },
  {
   "cell_type": "code",
   "execution_count": 81,
   "metadata": {},
   "outputs": [
    {
     "data": {
      "text/html": [
       "<div>\n",
       "<style scoped>\n",
       "    .dataframe tbody tr th:only-of-type {\n",
       "        vertical-align: middle;\n",
       "    }\n",
       "\n",
       "    .dataframe tbody tr th {\n",
       "        vertical-align: top;\n",
       "    }\n",
       "\n",
       "    .dataframe thead th {\n",
       "        text-align: right;\n",
       "    }\n",
       "</style>\n",
       "<table border=\"1\" class=\"dataframe\">\n",
       "  <thead>\n",
       "    <tr style=\"text-align: right;\">\n",
       "      <th></th>\n",
       "      <th>Percent.Serious.and.Fatal</th>\n",
       "      <th>Percent.Uninjured</th>\n",
       "    </tr>\n",
       "    <tr>\n",
       "      <th>Purpose.of.flight</th>\n",
       "      <th></th>\n",
       "      <th></th>\n",
       "    </tr>\n",
       "  </thead>\n",
       "  <tbody>\n",
       "    <tr>\n",
       "      <th>ASHO</th>\n",
       "      <td>100.000000</td>\n",
       "      <td>0.000000</td>\n",
       "    </tr>\n",
       "    <tr>\n",
       "      <th>Air Race show</th>\n",
       "      <td>58.333333</td>\n",
       "      <td>41.666667</td>\n",
       "    </tr>\n",
       "    <tr>\n",
       "      <th>Banner Tow</th>\n",
       "      <td>47.959184</td>\n",
       "      <td>47.959184</td>\n",
       "    </tr>\n",
       "    <tr>\n",
       "      <th>Aerial Observation</th>\n",
       "      <td>46.212121</td>\n",
       "      <td>44.191919</td>\n",
       "    </tr>\n",
       "    <tr>\n",
       "      <th>Unknown</th>\n",
       "      <td>41.497392</td>\n",
       "      <td>48.583560</td>\n",
       "    </tr>\n",
       "    <tr>\n",
       "      <th>Glider Tow</th>\n",
       "      <td>37.500000</td>\n",
       "      <td>54.166667</td>\n",
       "    </tr>\n",
       "    <tr>\n",
       "      <th>Public Aircraft - Local</th>\n",
       "      <td>37.500000</td>\n",
       "      <td>62.500000</td>\n",
       "    </tr>\n",
       "    <tr>\n",
       "      <th>Public Aircraft</th>\n",
       "      <td>35.714286</td>\n",
       "      <td>64.285714</td>\n",
       "    </tr>\n",
       "    <tr>\n",
       "      <th>Aerial Application</th>\n",
       "      <td>34.905660</td>\n",
       "      <td>53.773585</td>\n",
       "    </tr>\n",
       "    <tr>\n",
       "      <th>Executive/corporate</th>\n",
       "      <td>32.037037</td>\n",
       "      <td>61.111111</td>\n",
       "    </tr>\n",
       "    <tr>\n",
       "      <th>Positioning</th>\n",
       "      <td>31.542056</td>\n",
       "      <td>60.747664</td>\n",
       "    </tr>\n",
       "    <tr>\n",
       "      <th>Skydiving</th>\n",
       "      <td>29.206820</td>\n",
       "      <td>65.666598</td>\n",
       "    </tr>\n",
       "    <tr>\n",
       "      <th>Business</th>\n",
       "      <td>28.849951</td>\n",
       "      <td>61.994135</td>\n",
       "    </tr>\n",
       "    <tr>\n",
       "      <th>Other Work Use</th>\n",
       "      <td>26.959064</td>\n",
       "      <td>54.561404</td>\n",
       "    </tr>\n",
       "    <tr>\n",
       "      <th>Personal</th>\n",
       "      <td>26.679097</td>\n",
       "      <td>63.218943</td>\n",
       "    </tr>\n",
       "    <tr>\n",
       "      <th>Flight Test</th>\n",
       "      <td>26.000000</td>\n",
       "      <td>70.000000</td>\n",
       "    </tr>\n",
       "    <tr>\n",
       "      <th>Public Aircraft - State</th>\n",
       "      <td>20.833333</td>\n",
       "      <td>75.000000</td>\n",
       "    </tr>\n",
       "    <tr>\n",
       "      <th>Ferry</th>\n",
       "      <td>20.000000</td>\n",
       "      <td>66.000000</td>\n",
       "    </tr>\n",
       "    <tr>\n",
       "      <th>Instructional</th>\n",
       "      <td>15.045814</td>\n",
       "      <td>78.420221</td>\n",
       "    </tr>\n",
       "    <tr>\n",
       "      <th>Public Aircraft - Federal</th>\n",
       "      <td>6.944444</td>\n",
       "      <td>76.388889</td>\n",
       "    </tr>\n",
       "    <tr>\n",
       "      <th>Air Drop</th>\n",
       "      <td>0.000000</td>\n",
       "      <td>100.000000</td>\n",
       "    </tr>\n",
       "    <tr>\n",
       "      <th>PUBS</th>\n",
       "      <td>0.000000</td>\n",
       "      <td>66.666667</td>\n",
       "    </tr>\n",
       "  </tbody>\n",
       "</table>\n",
       "</div>"
      ],
      "text/plain": [
       "                           Percent.Serious.and.Fatal  Percent.Uninjured\n",
       "Purpose.of.flight                                                      \n",
       "ASHO                                      100.000000           0.000000\n",
       "Air Race show                              58.333333          41.666667\n",
       "Banner Tow                                 47.959184          47.959184\n",
       "Aerial Observation                         46.212121          44.191919\n",
       "Unknown                                    41.497392          48.583560\n",
       "Glider Tow                                 37.500000          54.166667\n",
       "Public Aircraft - Local                    37.500000          62.500000\n",
       "Public Aircraft                            35.714286          64.285714\n",
       "Aerial Application                         34.905660          53.773585\n",
       "Executive/corporate                        32.037037          61.111111\n",
       "Positioning                                31.542056          60.747664\n",
       "Skydiving                                  29.206820          65.666598\n",
       "Business                                   28.849951          61.994135\n",
       "Other Work Use                             26.959064          54.561404\n",
       "Personal                                   26.679097          63.218943\n",
       "Flight Test                                26.000000          70.000000\n",
       "Public Aircraft - State                    20.833333          75.000000\n",
       "Ferry                                      20.000000          66.000000\n",
       "Instructional                              15.045814          78.420221\n",
       "Public Aircraft - Federal                   6.944444          76.388889\n",
       "Air Drop                                    0.000000         100.000000\n",
       "PUBS                                        0.000000          66.666667"
      ]
     },
     "execution_count": 81,
     "metadata": {},
     "output_type": "execute_result"
    }
   ],
   "source": [
    "purpose_of_flight"
   ]
  },
  {
   "cell_type": "markdown",
   "metadata": {},
   "source": [
    "Looking at this data we can see that we should be avoiding going into a wide variety of endeavors as there are a lot of flight purposes that have an over 30% average major or fatal injury rate. There are also some endeavors that we can rule out due to them being impossible for us, namely being a public aircraft, which gets rid PUBS, Public Aircraft - Federal, and Public Aircraft - State. This leaves a few great candidates that we can recommend, including flight instruction and business."
   ]
  },
  {
   "cell_type": "markdown",
   "metadata": {},
   "source": [
    "## Phase of Flight"
   ]
  },
  {
   "cell_type": "markdown",
   "metadata": {},
   "source": [
    "The final variable that we are looking at is the broad phase of flight that the event occured in."
   ]
  },
  {
   "cell_type": "code",
   "execution_count": 82,
   "metadata": {},
   "outputs": [
    {
     "data": {
      "text/plain": [
       "Text(0.5, 1.0, 'Percent Serious or Fatal by Broad Phase of Flight')"
      ]
     },
     "execution_count": 82,
     "metadata": {},
     "output_type": "execute_result"
    },
    {
     "data": {
      "image/png": "[encoded data removed]",
      "text/plain": [
       "<Figure size 640x480 with 1 Axes>"
      ]
     },
     "metadata": {},
     "output_type": "display_data"
    }
   ],
   "source": [
    "x = list(broad_phase_of_flight.index)\n",
    "y = list(broad_phase_of_flight['Percent.Serious.and.Fatal'])\n",
    "fig, ax = plt.subplots()\n",
    "\n",
    "# Plot data\n",
    "ax.bar(x, y)\n",
    "\n",
    "# Customize appearance\n",
    "ax.tick_params(axis=\"x\", labelrotation=90)\n",
    "\n",
    "ax.set_ylabel(\"Percent Serious or Fatal\")\n",
    "\n",
    "ax.set_xlabel('Broad Phase of Flight')\n",
    "\n",
    "ax.set_title(\"Percent Serious or Fatal by Broad Phase of Flight\")"
   ]
  },
  {
   "cell_type": "code",
   "execution_count": 83,
   "metadata": {},
   "outputs": [
    {
     "data": {
      "text/html": [
       "<div>\n",
       "<style scoped>\n",
       "    .dataframe tbody tr th:only-of-type {\n",
       "        vertical-align: middle;\n",
       "    }\n",
       "\n",
       "    .dataframe tbody tr th {\n",
       "        vertical-align: top;\n",
       "    }\n",
       "\n",
       "    .dataframe thead th {\n",
       "        text-align: right;\n",
       "    }\n",
       "</style>\n",
       "<table border=\"1\" class=\"dataframe\">\n",
       "  <thead>\n",
       "    <tr style=\"text-align: right;\">\n",
       "      <th></th>\n",
       "      <th>Percent.Serious.and.Fatal</th>\n",
       "      <th>Percent.Uninjured</th>\n",
       "    </tr>\n",
       "    <tr>\n",
       "      <th>Broad.phase.of.flight</th>\n",
       "      <th></th>\n",
       "      <th></th>\n",
       "    </tr>\n",
       "  </thead>\n",
       "  <tbody>\n",
       "    <tr>\n",
       "      <th>Taxi</th>\n",
       "      <td>1.349206</td>\n",
       "      <td>95.912698</td>\n",
       "    </tr>\n",
       "    <tr>\n",
       "      <th>Landing</th>\n",
       "      <td>2.072997</td>\n",
       "      <td>90.198175</td>\n",
       "    </tr>\n",
       "    <tr>\n",
       "      <th>Standing</th>\n",
       "      <td>12.307692</td>\n",
       "      <td>74.871795</td>\n",
       "    </tr>\n",
       "    <tr>\n",
       "      <th>Takeoff</th>\n",
       "      <td>14.875445</td>\n",
       "      <td>69.501779</td>\n",
       "    </tr>\n",
       "    <tr>\n",
       "      <th>Go-around</th>\n",
       "      <td>16.515152</td>\n",
       "      <td>65.965909</td>\n",
       "    </tr>\n",
       "    <tr>\n",
       "      <th>Descent</th>\n",
       "      <td>22.194093</td>\n",
       "      <td>56.253767</td>\n",
       "    </tr>\n",
       "    <tr>\n",
       "      <th>Other</th>\n",
       "      <td>25.000000</td>\n",
       "      <td>37.500000</td>\n",
       "    </tr>\n",
       "    <tr>\n",
       "      <th>Approach</th>\n",
       "      <td>26.539855</td>\n",
       "      <td>51.835749</td>\n",
       "    </tr>\n",
       "    <tr>\n",
       "      <th>Cruise</th>\n",
       "      <td>31.219418</td>\n",
       "      <td>52.133295</td>\n",
       "    </tr>\n",
       "    <tr>\n",
       "      <th>Climb</th>\n",
       "      <td>39.473684</td>\n",
       "      <td>41.228070</td>\n",
       "    </tr>\n",
       "    <tr>\n",
       "      <th>Maneuvering</th>\n",
       "      <td>47.138470</td>\n",
       "      <td>36.909548</td>\n",
       "    </tr>\n",
       "  </tbody>\n",
       "</table>\n",
       "</div>"
      ],
      "text/plain": [
       "                       Percent.Serious.and.Fatal  Percent.Uninjured\n",
       "Broad.phase.of.flight                                              \n",
       "Taxi                                    1.349206          95.912698\n",
       "Landing                                 2.072997          90.198175\n",
       "Standing                               12.307692          74.871795\n",
       "Takeoff                                14.875445          69.501779\n",
       "Go-around                              16.515152          65.965909\n",
       "Descent                                22.194093          56.253767\n",
       "Other                                  25.000000          37.500000\n",
       "Approach                               26.539855          51.835749\n",
       "Cruise                                 31.219418          52.133295\n",
       "Climb                                  39.473684          41.228070\n",
       "Maneuvering                            47.138470          36.909548"
      ]
     },
     "execution_count": 83,
     "metadata": {},
     "output_type": "execute_result"
    }
   ],
   "source": [
    "broad_phase_of_flight"
   ]
  },
  {
   "cell_type": "markdown",
   "metadata": {},
   "source": [
    "As was mentioned in the methods section, this final recommendation isn't the same as the others as we can't simply tell pilots not to go into the climbing phase of flight. Instead, we can look for what phases of flight have the highest rate of major or fatal injuries in the case of an accident and task airplane safety experts with coming up with protocols to improve the major injury and death rate average for planes in that phase of flight. The worst offenders in this list are climbing, manuvering, and cruising, each with higher than 30% rate of serious or fatal injury in the event of an accident. "
   ]
  },
  {
   "cell_type": "markdown",
   "metadata": {},
   "source": [
    "However, when we look at the best makes and models that we recommended, we can see that this problem disappears as there are no cases of major injury or death during manuvering or climbing for any of the Boeing 700 series, the Cessna 180J and Cessna 180H, or the Piper PA 20."
   ]
  },
  {
   "cell_type": "code",
   "execution_count": 85,
   "metadata": {},
   "outputs": [
    {
     "data": {
      "text/html": [
       "<div>\n",
       "<style scoped>\n",
       "    .dataframe tbody tr th:only-of-type {\n",
       "        vertical-align: middle;\n",
       "    }\n",
       "\n",
       "    .dataframe tbody tr th {\n",
       "        vertical-align: top;\n",
       "    }\n",
       "\n",
       "    .dataframe thead th {\n",
       "        text-align: right;\n",
       "    }\n",
       "</style>\n",
       "<table border=\"1\" class=\"dataframe\">\n",
       "  <thead>\n",
       "    <tr style=\"text-align: right;\">\n",
       "      <th></th>\n",
       "      <th>Percent.Serious.and.Fatal</th>\n",
       "      <th>Percent.Uninjured</th>\n",
       "    </tr>\n",
       "    <tr>\n",
       "      <th>Broad.phase.of.flight</th>\n",
       "      <th></th>\n",
       "      <th></th>\n",
       "    </tr>\n",
       "  </thead>\n",
       "  <tbody>\n",
       "    <tr>\n",
       "      <th>Standing</th>\n",
       "      <td>0.000000</td>\n",
       "      <td>100.000000</td>\n",
       "    </tr>\n",
       "    <tr>\n",
       "      <th>Takeoff</th>\n",
       "      <td>0.000000</td>\n",
       "      <td>0.000000</td>\n",
       "    </tr>\n",
       "    <tr>\n",
       "      <th>Taxi</th>\n",
       "      <td>0.000000</td>\n",
       "      <td>100.000000</td>\n",
       "    </tr>\n",
       "    <tr>\n",
       "      <th>Cruise</th>\n",
       "      <td>0.460829</td>\n",
       "      <td>99.539171</td>\n",
       "    </tr>\n",
       "    <tr>\n",
       "      <th>Descent</th>\n",
       "      <td>100.000000</td>\n",
       "      <td>0.000000</td>\n",
       "    </tr>\n",
       "  </tbody>\n",
       "</table>\n",
       "</div>"
      ],
      "text/plain": [
       "                       Percent.Serious.and.Fatal  Percent.Uninjured\n",
       "Broad.phase.of.flight                                              \n",
       "Standing                                0.000000         100.000000\n",
       "Takeoff                                 0.000000           0.000000\n",
       "Taxi                                    0.000000         100.000000\n",
       "Cruise                                  0.460829          99.539171\n",
       "Descent                               100.000000           0.000000"
      ]
     },
     "execution_count": 85,
     "metadata": {},
     "output_type": "execute_result"
    }
   ],
   "source": [
    "#this shows the serious and fatal injury rate by phase of flight for Boeing planes\n",
    "broad_phase_of_flight_boeing"
   ]
  },
  {
   "cell_type": "code",
   "execution_count": 86,
   "metadata": {},
   "outputs": [
    {
     "data": {
      "text/html": [
       "<div>\n",
       "<style scoped>\n",
       "    .dataframe tbody tr th:only-of-type {\n",
       "        vertical-align: middle;\n",
       "    }\n",
       "\n",
       "    .dataframe tbody tr th {\n",
       "        vertical-align: top;\n",
       "    }\n",
       "\n",
       "    .dataframe thead th {\n",
       "        text-align: right;\n",
       "    }\n",
       "</style>\n",
       "<table border=\"1\" class=\"dataframe\">\n",
       "  <thead>\n",
       "    <tr style=\"text-align: right;\">\n",
       "      <th></th>\n",
       "      <th>Percent.Serious.and.Fatal</th>\n",
       "      <th>Percent.Uninjured</th>\n",
       "    </tr>\n",
       "    <tr>\n",
       "      <th>Broad.phase.of.flight</th>\n",
       "      <th></th>\n",
       "      <th></th>\n",
       "    </tr>\n",
       "  </thead>\n",
       "  <tbody>\n",
       "    <tr>\n",
       "      <th>Approach</th>\n",
       "      <td>0.0</td>\n",
       "      <td>100.0</td>\n",
       "    </tr>\n",
       "    <tr>\n",
       "      <th>Landing</th>\n",
       "      <td>0.0</td>\n",
       "      <td>70.0</td>\n",
       "    </tr>\n",
       "    <tr>\n",
       "      <th>Takeoff</th>\n",
       "      <td>0.0</td>\n",
       "      <td>100.0</td>\n",
       "    </tr>\n",
       "  </tbody>\n",
       "</table>\n",
       "</div>"
      ],
      "text/plain": [
       "                       Percent.Serious.and.Fatal  Percent.Uninjured\n",
       "Broad.phase.of.flight                                              \n",
       "Approach                                     0.0              100.0\n",
       "Landing                                      0.0               70.0\n",
       "Takeoff                                      0.0              100.0"
      ]
     },
     "execution_count": 86,
     "metadata": {},
     "output_type": "execute_result"
    }
   ],
   "source": [
    "#same as last cell but for the cessna 180J\n",
    "broad_phase_of_flight_cessna180J"
   ]
  },
  {
   "cell_type": "code",
   "execution_count": 87,
   "metadata": {},
   "outputs": [
    {
     "data": {
      "text/html": [
       "<div>\n",
       "<style scoped>\n",
       "    .dataframe tbody tr th:only-of-type {\n",
       "        vertical-align: middle;\n",
       "    }\n",
       "\n",
       "    .dataframe tbody tr th {\n",
       "        vertical-align: top;\n",
       "    }\n",
       "\n",
       "    .dataframe thead th {\n",
       "        text-align: right;\n",
       "    }\n",
       "</style>\n",
       "<table border=\"1\" class=\"dataframe\">\n",
       "  <thead>\n",
       "    <tr style=\"text-align: right;\">\n",
       "      <th></th>\n",
       "      <th>Percent.Serious.and.Fatal</th>\n",
       "      <th>Percent.Uninjured</th>\n",
       "    </tr>\n",
       "    <tr>\n",
       "      <th>Broad.phase.of.flight</th>\n",
       "      <th></th>\n",
       "      <th></th>\n",
       "    </tr>\n",
       "  </thead>\n",
       "  <tbody>\n",
       "    <tr>\n",
       "      <th>Cruise</th>\n",
       "      <td>0.0</td>\n",
       "      <td>0.000000</td>\n",
       "    </tr>\n",
       "    <tr>\n",
       "      <th>Landing</th>\n",
       "      <td>0.0</td>\n",
       "      <td>66.666667</td>\n",
       "    </tr>\n",
       "    <tr>\n",
       "      <th>Taxi</th>\n",
       "      <td>0.0</td>\n",
       "      <td>100.000000</td>\n",
       "    </tr>\n",
       "    <tr>\n",
       "      <th>Takeoff</th>\n",
       "      <td>12.0</td>\n",
       "      <td>40.000000</td>\n",
       "    </tr>\n",
       "  </tbody>\n",
       "</table>\n",
       "</div>"
      ],
      "text/plain": [
       "                       Percent.Serious.and.Fatal  Percent.Uninjured\n",
       "Broad.phase.of.flight                                              \n",
       "Cruise                                       0.0           0.000000\n",
       "Landing                                      0.0          66.666667\n",
       "Taxi                                         0.0         100.000000\n",
       "Takeoff                                     12.0          40.000000"
      ]
     },
     "execution_count": 87,
     "metadata": {},
     "output_type": "execute_result"
    }
   ],
   "source": [
    "#same for the cessna 180H\n",
    "broad_phase_of_flight_cessna180H"
   ]
  },
  {
   "cell_type": "code",
   "execution_count": 89,
   "metadata": {},
   "outputs": [
    {
     "data": {
      "text/html": [
       "<div>\n",
       "<style scoped>\n",
       "    .dataframe tbody tr th:only-of-type {\n",
       "        vertical-align: middle;\n",
       "    }\n",
       "\n",
       "    .dataframe tbody tr th {\n",
       "        vertical-align: top;\n",
       "    }\n",
       "\n",
       "    .dataframe thead th {\n",
       "        text-align: right;\n",
       "    }\n",
       "</style>\n",
       "<table border=\"1\" class=\"dataframe\">\n",
       "  <thead>\n",
       "    <tr style=\"text-align: right;\">\n",
       "      <th></th>\n",
       "      <th>Percent.Serious.and.Fatal</th>\n",
       "      <th>Percent.Uninjured</th>\n",
       "    </tr>\n",
       "    <tr>\n",
       "      <th>Broad.phase.of.flight</th>\n",
       "      <th></th>\n",
       "      <th></th>\n",
       "    </tr>\n",
       "  </thead>\n",
       "  <tbody>\n",
       "    <tr>\n",
       "      <th>Landing</th>\n",
       "      <td>0.0</td>\n",
       "      <td>100.0</td>\n",
       "    </tr>\n",
       "    <tr>\n",
       "      <th>Maneuvering</th>\n",
       "      <td>0.0</td>\n",
       "      <td>100.0</td>\n",
       "    </tr>\n",
       "    <tr>\n",
       "      <th>Takeoff</th>\n",
       "      <td>0.0</td>\n",
       "      <td>100.0</td>\n",
       "    </tr>\n",
       "    <tr>\n",
       "      <th>Taxi</th>\n",
       "      <td>0.0</td>\n",
       "      <td>100.0</td>\n",
       "    </tr>\n",
       "    <tr>\n",
       "      <th>Cruise</th>\n",
       "      <td>100.0</td>\n",
       "      <td>0.0</td>\n",
       "    </tr>\n",
       "  </tbody>\n",
       "</table>\n",
       "</div>"
      ],
      "text/plain": [
       "                       Percent.Serious.and.Fatal  Percent.Uninjured\n",
       "Broad.phase.of.flight                                              \n",
       "Landing                                      0.0              100.0\n",
       "Maneuvering                                  0.0              100.0\n",
       "Takeoff                                      0.0              100.0\n",
       "Taxi                                         0.0              100.0\n",
       "Cruise                                     100.0                0.0"
      ]
     },
     "execution_count": 89,
     "metadata": {},
     "output_type": "execute_result"
    }
   ],
   "source": [
    "#Same for the Piper PA 20\n",
    "broad_phase_of_flight_piperPA"
   ]
  },
  {
   "cell_type": "markdown",
   "metadata": {},
   "source": [
    "# Recommendation 1"
   ]
  },
  {
   "cell_type": "markdown",
   "metadata": {},
   "source": [
    "If you are buying a large plane, get one with 4 turbo fan engines. if you are buying a small plane, buy aircraft with one reciprocating engine."
   ]
  },
  {
   "cell_type": "markdown",
   "metadata": {},
   "source": [
    "# Recommendation 2"
   ]
  },
  {
   "cell_type": "markdown",
   "metadata": {},
   "source": [
    "Create an airline connecting the Upper Midwest to the Pacific Northwest and establish your flight hubs at MSP, DTW, and SEA"
   ]
  },
  {
   "cell_type": "markdown",
   "metadata": {},
   "source": [
    "# Recommendation 3"
   ]
  },
  {
   "cell_type": "markdown",
   "metadata": {},
   "source": [
    "When you purchase large aircraft, the Boeing 777 is your best bet but the other Boeing 700 series planes are also near the best you can get for safety. When you buy smaller aircraft, go for the Cessna 180 series, specifically the Cessna 180J, or if you need even smaller, go with the Piper PA 20."
   ]
  }
 ],
 "metadata": {
  "kernelspec": {
   "display_name": "Python 3 (ipykernel)",
   "language": "python",
   "name": "python3"
  },
  "language_info": {
   "codemirror_mode": {
    "name": "ipython",
    "version": 3
   },
   "file_extension": ".py",
   "mimetype": "text/x-python",
   "name": "python",
   "nbconvert_exporter": "python",
   "pygments_lexer": "ipython3",
   "version": "3.9.16"
  }
 },
 "nbformat": 4,
 "nbformat_minor": 4
}
